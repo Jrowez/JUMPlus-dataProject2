{
 "cells": [
  {
   "cell_type": "code",
   "execution_count": null,
   "metadata": {},
   "outputs": [],
   "source": [
    "\"\"\"\n",
    "Data Project 2:\n",
    "1. Import required libraries\n",
    "2. Read csv\n",
    "3. Show first records from csv\n",
    "4. Show number of rows and columns\n",
    "5. You need to find the values of alignment ,can use value_counts()\n",
    "6. Find out only good alignment holders superheroes\n",
    "7. Show first five records which you found in point 6\n",
    "8. Show top five records having top speed of heroes of good alignment\n",
    "9. Show 5 records of super heroes who have maximum power of good alignment\n",
    "10. Find out how many super heroes are there with power 100 of good alignment\n",
    "11. Shape them what you got in point 10\n",
    "12. Show all records from point 10\n",
    "13. Retrieve total of first five records of max power of good alignment super heroes\n",
    "14. Draw a bar plot of all super heroes who are having good alignment and max power of\n",
    "top five only , take same object of point 13 , show name and total in plot with green \n",
    "bars\n",
    "15. Extract villains having bad alignment\n",
    "16. Show first five records of point 15\n",
    "17. Show top five fastest super villains in terms of super speed\n",
    "18. Top five super villains in terms of intelligence\n",
    "19. Show who is most dangerous super villain after calculating their total (top 5 only)\n",
    "20. Draw a histogram for speed of super heroes having fig size 10,5 , provide speed in \n",
    "histogram for only good alignment super heroes ,title should be \"distribution of \n",
    "speed\" , xlabel should be \"speed\"\n",
    "21. Draw a histogram for combat of super villains having fig size 10,5 , provide combat in \n",
    "histogram for only bad alignment super heroes ,title should be \"distribution of \n",
    "combat\" , xlabel should be \"combat\"\n",
    "*** Explain how you retrieve data with the help of comments in almost each section\n",
    "\"\"\"\n",
    "\n",
    "\"\"\"\n",
    "Bonus: Can go beyond the scope and extract some different information on different \n",
    "characters and their properties. Can draw some more plots and histograms.\n",
    "\"\"\""
   ]
  },
  {
   "cell_type": "code",
   "execution_count": null,
   "metadata": {},
   "outputs": [],
   "source": [
    "#1. Import required libraries"
   ]
  },
  {
   "cell_type": "code",
   "execution_count": null,
   "metadata": {},
   "outputs": [],
   "source": [
    "#2. Read csv"
   ]
  },
  {
   "cell_type": "code",
   "execution_count": null,
   "metadata": {},
   "outputs": [],
   "source": [
    "#3. Show first records from csv"
   ]
  },
  {
   "cell_type": "code",
   "execution_count": null,
   "metadata": {},
   "outputs": [],
   "source": [
    "#4. Show number of rows and columns"
   ]
  },
  {
   "cell_type": "code",
   "execution_count": null,
   "metadata": {},
   "outputs": [],
   "source": [
    "#5. You need to find the values of alignment, can use value_counts()"
   ]
  },
  {
   "cell_type": "code",
   "execution_count": null,
   "metadata": {},
   "outputs": [],
   "source": [
    "#6. Find out only good alignment holders superheroes"
   ]
  },
  {
   "cell_type": "code",
   "execution_count": null,
   "metadata": {},
   "outputs": [],
   "source": [
    "#7. Show first five records which you found in 6"
   ]
  },
  {
   "cell_type": "code",
   "execution_count": null,
   "metadata": {},
   "outputs": [],
   "source": [
    "#8. Show top 5 records having top speed of heroes of good alignment"
   ]
  },
  {
   "cell_type": "code",
   "execution_count": null,
   "metadata": {},
   "outputs": [],
   "source": [
    "#9. Show 5 records of super heroes who have maximum power of good alignment"
   ]
  },
  {
   "cell_type": "code",
   "execution_count": null,
   "metadata": {},
   "outputs": [],
   "source": [
    "#10. Find out how many super heroes are there with power 100 of good alignment"
   ]
  },
  {
   "cell_type": "code",
   "execution_count": null,
   "metadata": {},
   "outputs": [],
   "source": [
    "#11. Shape them what you got in point 10"
   ]
  },
  {
   "cell_type": "code",
   "execution_count": null,
   "metadata": {},
   "outputs": [],
   "source": [
    "#12. Show all records from point 10\n"
   ]
  },
  {
   "cell_type": "code",
   "execution_count": null,
   "metadata": {},
   "outputs": [],
   "source": [
    "#13. Retrieve total of first five records of max power of good alignment super heroes"
   ]
  },
  {
   "cell_type": "code",
   "execution_count": null,
   "metadata": {},
   "outputs": [],
   "source": [
    "\"\"\"\n",
    "14. Draw a bar plot of all super heroes who are having good alignment and max power of \n",
    "top five only , take same object of point 13 , show name and total in plot with green bars\n",
    "\"\"\"\n"
   ]
  },
  {
   "cell_type": "code",
   "execution_count": null,
   "metadata": {},
   "outputs": [],
   "source": [
    "#15. Extract villains having bad alignment"
   ]
  },
  {
   "cell_type": "code",
   "execution_count": null,
   "metadata": {},
   "outputs": [],
   "source": [
    "#16. Show first five records of point 15"
   ]
  },
  {
   "cell_type": "code",
   "execution_count": null,
   "metadata": {},
   "outputs": [],
   "source": [
    "#17. Show top five fastest super villains in terms of super speed"
   ]
  },
  {
   "cell_type": "code",
   "execution_count": null,
   "metadata": {},
   "outputs": [],
   "source": [
    "#18. Top five super villains in terms of intelligence"
   ]
  },
  {
   "cell_type": "code",
   "execution_count": null,
   "metadata": {},
   "outputs": [],
   "source": [
    "#19. Show who is most dangerous super villain after calculating their total (top 5 only)"
   ]
  },
  {
   "cell_type": "code",
   "execution_count": null,
   "metadata": {},
   "outputs": [],
   "source": [
    "\"\"\"\n",
    "20. Draw a histogram for speed of super heroes having fig size 10,5 , provide speed in \n",
    "histogram for only good alignment super heroes ,title should be \"distribution of \n",
    "speed\" , xlabel should be \"speed\n",
    "\"\"\""
   ]
  },
  {
   "cell_type": "code",
   "execution_count": null,
   "metadata": {},
   "outputs": [],
   "source": [
    "\"\"\"\n",
    "21. Draw a histogram for combat of super villains having fig size 10,5 , provide combat in \n",
    "histogram for only bad alignment super heroes ,title should be \"distribution of \n",
    "combat\" , xlabel should be \"combat\"\n",
    "\"\"\""
   ]
  },
  {
   "cell_type": "code",
   "execution_count": null,
   "metadata": {},
   "outputs": [],
   "source": [
    "\"\"\"\n",
    "Bonus: Can go beyond the scope and extract some different information on different \n",
    "characters and their properties. Can draw some more plots and histograms.\n",
    "\"\"\""
   ]
  }
 ],
 "metadata": {
  "interpreter": {
   "hash": "600c25c12856a842ab64bd468beca1647a20977f2accb2696f130eafa2c53eb8"
  },
  "kernelspec": {
   "display_name": "Python 3.8.8 64-bit ('base': conda)",
   "language": "python",
   "name": "python3"
  },
  "language_info": {
   "name": "python",
   "version": "3.8.8"
  },
  "orig_nbformat": 4
 },
 "nbformat": 4,
 "nbformat_minor": 2
}
